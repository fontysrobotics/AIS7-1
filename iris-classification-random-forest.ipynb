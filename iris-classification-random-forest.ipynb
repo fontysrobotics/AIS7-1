{
  "nbformat": 4,
  "nbformat_minor": 0,
  "metadata": {
    "kernelspec": {
      "display_name": "Python 3",
      "language": "python",
      "name": "python3"
    },
    "language_info": {
      "codemirror_mode": {
        "name": "ipython",
        "version": 3
      },
      "file_extension": ".py",
      "mimetype": "text/x-python",
      "name": "python",
      "nbconvert_exporter": "python",
      "pygments_lexer": "ipython3",
      "version": "3.7.6"
    },
    "colab": {
      "name": "iris-classification-random-forest.ipynb",
      "provenance": []
    }
  },
  "cells": [
    {
      "cell_type": "markdown",
      "metadata": {
        "id": "xWP25yjaMpoT"
      },
      "source": [
        "# Building a Classification Model for the Iris data set\n",
        "Notebook adapted from:\n",
        "Chanin Nantasenamat\n",
        "\n",
        "<i>Data Professor YouTube channel, http://youtube.com/dataprofessor </i>\n",
        "\n",
        "\n",
        "\n",
        "\n",
        "\n",
        "In this Jupyter notebook, we will be building a classification model for the Iris data set using the random forest algorithm. \n",
        "\n",
        "You can follow the video tutorial: https://www.youtube.com/watch?v=XmSlFPDjKdc\n",
        "\n",
        "[![IMAGE ALT TEXT](http://img.youtube.com/vi/XmSlFPDjKdc/0.jpg)](http://www.youtube.com/watch?v=XmSlFPDjKdc \"Machine Learning in Python: Building a Classification Model\")"
      ]
    },
    {
      "cell_type": "markdown",
      "metadata": {
        "id": "wd9qsn77MpoY"
      },
      "source": [
        "## 1. Import libraries"
      ]
    },
    {
      "cell_type": "code",
      "metadata": {
        "id": "VSne1dX2MpoY"
      },
      "source": [
        "from sklearn import datasets\n",
        "from sklearn.model_selection import train_test_split\n",
        "from sklearn.ensemble import RandomForestClassifier\n",
        "from sklearn.datasets import make_classification"
      ],
      "execution_count": 2,
      "outputs": []
    },
    {
      "cell_type": "markdown",
      "metadata": {
        "id": "6qi8ygqoMpoZ"
      },
      "source": [
        "## 2. Load the *iris* data set"
      ]
    },
    {
      "cell_type": "code",
      "metadata": {
        "id": "MgBgabAqMpoa"
      },
      "source": [
        "iris = datasets.load_iris()"
      ],
      "execution_count": 3,
      "outputs": []
    },
    {
      "cell_type": "markdown",
      "metadata": {
        "id": "1dc-eco6Mpoa"
      },
      "source": [
        "## 3. Input features\n",
        "The ***iris*** data set contains 4 input features and 1 output variable (the class label).\n",
        "![picture](https://sebastianraschka.com/images/blog/2015/principal_component_analysis_files/iris.png)\n",
        "\n",
        "(image from: https://sebastianraschka.com/Articles/2015_pca_in_3_steps.html)\n"
      ]
    },
    {
      "cell_type": "markdown",
      "metadata": {
        "id": "Xa00rrUjMpoa"
      },
      "source": [
        "### 3.1. Input features"
      ]
    },
    {
      "cell_type": "code",
      "metadata": {
        "scrolled": true,
        "id": "LtvqX5WKMpob",
        "colab": {
          "base_uri": "https://localhost:8080/"
        },
        "outputId": "2f7d82c0-a1d3-4830-a74b-1a2aadbbf8da"
      },
      "source": [
        "print(iris.feature_names)"
      ],
      "execution_count": 4,
      "outputs": [
        {
          "output_type": "stream",
          "name": "stdout",
          "text": [
            "['sepal length (cm)', 'sepal width (cm)', 'petal length (cm)', 'petal width (cm)']\n"
          ]
        }
      ]
    },
    {
      "cell_type": "markdown",
      "metadata": {
        "id": "rJQb65WwMpoc"
      },
      "source": [
        "### 3.2. Output features\n",
        "\n",
        "There a three species of iris flowers in this dataset"
      ]
    },
    {
      "cell_type": "code",
      "metadata": {
        "id": "HeBc2RJeMpod",
        "colab": {
          "base_uri": "https://localhost:8080/"
        },
        "outputId": "c1ef9b34-5034-4382-a3bb-ebd0f28ebb55"
      },
      "source": [
        "print(iris.target_names)"
      ],
      "execution_count": 5,
      "outputs": [
        {
          "output_type": "stream",
          "name": "stdout",
          "text": [
            "['setosa' 'versicolor' 'virginica']\n"
          ]
        }
      ]
    },
    {
      "cell_type": "markdown",
      "metadata": {
        "id": "pHxm8_ZLMpod"
      },
      "source": [
        "## 4. Glimpse of the data"
      ]
    },
    {
      "cell_type": "markdown",
      "metadata": {
        "id": "sj0S-Vk8Mpod"
      },
      "source": [
        "### 4.1. Input features\n",
        "\n",
        "We first look at how the dataset is composed!\n",
        "So this dataset has 4 measurements (features), ['sepal length (cm)', 'sepal width (cm)', 'petal length (cm)', 'petal width (cm)']"
      ]
    },
    {
      "cell_type": "code",
      "metadata": {
        "id": "kEaEN6pYMpoe",
        "colab": {
          "base_uri": "https://localhost:8080/"
        },
        "outputId": "2e86c868-70f3-4da9-e9ef-670a9a7e70b1"
      },
      "source": [
        "iris.data"
      ],
      "execution_count": 6,
      "outputs": [
        {
          "output_type": "execute_result",
          "data": {
            "text/plain": [
              "array([[5.1, 3.5, 1.4, 0.2],\n",
              "       [4.9, 3. , 1.4, 0.2],\n",
              "       [4.7, 3.2, 1.3, 0.2],\n",
              "       [4.6, 3.1, 1.5, 0.2],\n",
              "       [5. , 3.6, 1.4, 0.2],\n",
              "       [5.4, 3.9, 1.7, 0.4],\n",
              "       [4.6, 3.4, 1.4, 0.3],\n",
              "       [5. , 3.4, 1.5, 0.2],\n",
              "       [4.4, 2.9, 1.4, 0.2],\n",
              "       [4.9, 3.1, 1.5, 0.1],\n",
              "       [5.4, 3.7, 1.5, 0.2],\n",
              "       [4.8, 3.4, 1.6, 0.2],\n",
              "       [4.8, 3. , 1.4, 0.1],\n",
              "       [4.3, 3. , 1.1, 0.1],\n",
              "       [5.8, 4. , 1.2, 0.2],\n",
              "       [5.7, 4.4, 1.5, 0.4],\n",
              "       [5.4, 3.9, 1.3, 0.4],\n",
              "       [5.1, 3.5, 1.4, 0.3],\n",
              "       [5.7, 3.8, 1.7, 0.3],\n",
              "       [5.1, 3.8, 1.5, 0.3],\n",
              "       [5.4, 3.4, 1.7, 0.2],\n",
              "       [5.1, 3.7, 1.5, 0.4],\n",
              "       [4.6, 3.6, 1. , 0.2],\n",
              "       [5.1, 3.3, 1.7, 0.5],\n",
              "       [4.8, 3.4, 1.9, 0.2],\n",
              "       [5. , 3. , 1.6, 0.2],\n",
              "       [5. , 3.4, 1.6, 0.4],\n",
              "       [5.2, 3.5, 1.5, 0.2],\n",
              "       [5.2, 3.4, 1.4, 0.2],\n",
              "       [4.7, 3.2, 1.6, 0.2],\n",
              "       [4.8, 3.1, 1.6, 0.2],\n",
              "       [5.4, 3.4, 1.5, 0.4],\n",
              "       [5.2, 4.1, 1.5, 0.1],\n",
              "       [5.5, 4.2, 1.4, 0.2],\n",
              "       [4.9, 3.1, 1.5, 0.2],\n",
              "       [5. , 3.2, 1.2, 0.2],\n",
              "       [5.5, 3.5, 1.3, 0.2],\n",
              "       [4.9, 3.6, 1.4, 0.1],\n",
              "       [4.4, 3. , 1.3, 0.2],\n",
              "       [5.1, 3.4, 1.5, 0.2],\n",
              "       [5. , 3.5, 1.3, 0.3],\n",
              "       [4.5, 2.3, 1.3, 0.3],\n",
              "       [4.4, 3.2, 1.3, 0.2],\n",
              "       [5. , 3.5, 1.6, 0.6],\n",
              "       [5.1, 3.8, 1.9, 0.4],\n",
              "       [4.8, 3. , 1.4, 0.3],\n",
              "       [5.1, 3.8, 1.6, 0.2],\n",
              "       [4.6, 3.2, 1.4, 0.2],\n",
              "       [5.3, 3.7, 1.5, 0.2],\n",
              "       [5. , 3.3, 1.4, 0.2],\n",
              "       [7. , 3.2, 4.7, 1.4],\n",
              "       [6.4, 3.2, 4.5, 1.5],\n",
              "       [6.9, 3.1, 4.9, 1.5],\n",
              "       [5.5, 2.3, 4. , 1.3],\n",
              "       [6.5, 2.8, 4.6, 1.5],\n",
              "       [5.7, 2.8, 4.5, 1.3],\n",
              "       [6.3, 3.3, 4.7, 1.6],\n",
              "       [4.9, 2.4, 3.3, 1. ],\n",
              "       [6.6, 2.9, 4.6, 1.3],\n",
              "       [5.2, 2.7, 3.9, 1.4],\n",
              "       [5. , 2. , 3.5, 1. ],\n",
              "       [5.9, 3. , 4.2, 1.5],\n",
              "       [6. , 2.2, 4. , 1. ],\n",
              "       [6.1, 2.9, 4.7, 1.4],\n",
              "       [5.6, 2.9, 3.6, 1.3],\n",
              "       [6.7, 3.1, 4.4, 1.4],\n",
              "       [5.6, 3. , 4.5, 1.5],\n",
              "       [5.8, 2.7, 4.1, 1. ],\n",
              "       [6.2, 2.2, 4.5, 1.5],\n",
              "       [5.6, 2.5, 3.9, 1.1],\n",
              "       [5.9, 3.2, 4.8, 1.8],\n",
              "       [6.1, 2.8, 4. , 1.3],\n",
              "       [6.3, 2.5, 4.9, 1.5],\n",
              "       [6.1, 2.8, 4.7, 1.2],\n",
              "       [6.4, 2.9, 4.3, 1.3],\n",
              "       [6.6, 3. , 4.4, 1.4],\n",
              "       [6.8, 2.8, 4.8, 1.4],\n",
              "       [6.7, 3. , 5. , 1.7],\n",
              "       [6. , 2.9, 4.5, 1.5],\n",
              "       [5.7, 2.6, 3.5, 1. ],\n",
              "       [5.5, 2.4, 3.8, 1.1],\n",
              "       [5.5, 2.4, 3.7, 1. ],\n",
              "       [5.8, 2.7, 3.9, 1.2],\n",
              "       [6. , 2.7, 5.1, 1.6],\n",
              "       [5.4, 3. , 4.5, 1.5],\n",
              "       [6. , 3.4, 4.5, 1.6],\n",
              "       [6.7, 3.1, 4.7, 1.5],\n",
              "       [6.3, 2.3, 4.4, 1.3],\n",
              "       [5.6, 3. , 4.1, 1.3],\n",
              "       [5.5, 2.5, 4. , 1.3],\n",
              "       [5.5, 2.6, 4.4, 1.2],\n",
              "       [6.1, 3. , 4.6, 1.4],\n",
              "       [5.8, 2.6, 4. , 1.2],\n",
              "       [5. , 2.3, 3.3, 1. ],\n",
              "       [5.6, 2.7, 4.2, 1.3],\n",
              "       [5.7, 3. , 4.2, 1.2],\n",
              "       [5.7, 2.9, 4.2, 1.3],\n",
              "       [6.2, 2.9, 4.3, 1.3],\n",
              "       [5.1, 2.5, 3. , 1.1],\n",
              "       [5.7, 2.8, 4.1, 1.3],\n",
              "       [6.3, 3.3, 6. , 2.5],\n",
              "       [5.8, 2.7, 5.1, 1.9],\n",
              "       [7.1, 3. , 5.9, 2.1],\n",
              "       [6.3, 2.9, 5.6, 1.8],\n",
              "       [6.5, 3. , 5.8, 2.2],\n",
              "       [7.6, 3. , 6.6, 2.1],\n",
              "       [4.9, 2.5, 4.5, 1.7],\n",
              "       [7.3, 2.9, 6.3, 1.8],\n",
              "       [6.7, 2.5, 5.8, 1.8],\n",
              "       [7.2, 3.6, 6.1, 2.5],\n",
              "       [6.5, 3.2, 5.1, 2. ],\n",
              "       [6.4, 2.7, 5.3, 1.9],\n",
              "       [6.8, 3. , 5.5, 2.1],\n",
              "       [5.7, 2.5, 5. , 2. ],\n",
              "       [5.8, 2.8, 5.1, 2.4],\n",
              "       [6.4, 3.2, 5.3, 2.3],\n",
              "       [6.5, 3. , 5.5, 1.8],\n",
              "       [7.7, 3.8, 6.7, 2.2],\n",
              "       [7.7, 2.6, 6.9, 2.3],\n",
              "       [6. , 2.2, 5. , 1.5],\n",
              "       [6.9, 3.2, 5.7, 2.3],\n",
              "       [5.6, 2.8, 4.9, 2. ],\n",
              "       [7.7, 2.8, 6.7, 2. ],\n",
              "       [6.3, 2.7, 4.9, 1.8],\n",
              "       [6.7, 3.3, 5.7, 2.1],\n",
              "       [7.2, 3.2, 6. , 1.8],\n",
              "       [6.2, 2.8, 4.8, 1.8],\n",
              "       [6.1, 3. , 4.9, 1.8],\n",
              "       [6.4, 2.8, 5.6, 2.1],\n",
              "       [7.2, 3. , 5.8, 1.6],\n",
              "       [7.4, 2.8, 6.1, 1.9],\n",
              "       [7.9, 3.8, 6.4, 2. ],\n",
              "       [6.4, 2.8, 5.6, 2.2],\n",
              "       [6.3, 2.8, 5.1, 1.5],\n",
              "       [6.1, 2.6, 5.6, 1.4],\n",
              "       [7.7, 3. , 6.1, 2.3],\n",
              "       [6.3, 3.4, 5.6, 2.4],\n",
              "       [6.4, 3.1, 5.5, 1.8],\n",
              "       [6. , 3. , 4.8, 1.8],\n",
              "       [6.9, 3.1, 5.4, 2.1],\n",
              "       [6.7, 3.1, 5.6, 2.4],\n",
              "       [6.9, 3.1, 5.1, 2.3],\n",
              "       [5.8, 2.7, 5.1, 1.9],\n",
              "       [6.8, 3.2, 5.9, 2.3],\n",
              "       [6.7, 3.3, 5.7, 2.5],\n",
              "       [6.7, 3. , 5.2, 2.3],\n",
              "       [6.3, 2.5, 5. , 1.9],\n",
              "       [6.5, 3. , 5.2, 2. ],\n",
              "       [6.2, 3.4, 5.4, 2.3],\n",
              "       [5.9, 3. , 5.1, 1.8]])"
            ]
          },
          "metadata": {},
          "execution_count": 6
        }
      ]
    },
    {
      "cell_type": "markdown",
      "metadata": {
        "id": "7a45lsjxMpoe"
      },
      "source": [
        "### 4.2. Output variable (the Class label)\n",
        "\n",
        "The measurements above belong to one of the three types of iris flowers (0 = 'setosa' 1= 'versicolor' 2 = 'virginica')"
      ]
    },
    {
      "cell_type": "code",
      "metadata": {
        "id": "MM3H2S5hMpoe",
        "colab": {
          "base_uri": "https://localhost:8080/"
        },
        "outputId": "408aeef7-1a56-4e1c-ff3f-c927c6538621"
      },
      "source": [
        "iris.target"
      ],
      "execution_count": 8,
      "outputs": [
        {
          "output_type": "execute_result",
          "data": {
            "text/plain": [
              "array([0, 0, 0, 0, 0, 0, 0, 0, 0, 0, 0, 0, 0, 0, 0, 0, 0, 0, 0, 0, 0, 0,\n",
              "       0, 0, 0, 0, 0, 0, 0, 0, 0, 0, 0, 0, 0, 0, 0, 0, 0, 0, 0, 0, 0, 0,\n",
              "       0, 0, 0, 0, 0, 0, 1, 1, 1, 1, 1, 1, 1, 1, 1, 1, 1, 1, 1, 1, 1, 1,\n",
              "       1, 1, 1, 1, 1, 1, 1, 1, 1, 1, 1, 1, 1, 1, 1, 1, 1, 1, 1, 1, 1, 1,\n",
              "       1, 1, 1, 1, 1, 1, 1, 1, 1, 1, 1, 1, 2, 2, 2, 2, 2, 2, 2, 2, 2, 2,\n",
              "       2, 2, 2, 2, 2, 2, 2, 2, 2, 2, 2, 2, 2, 2, 2, 2, 2, 2, 2, 2, 2, 2,\n",
              "       2, 2, 2, 2, 2, 2, 2, 2, 2, 2, 2, 2, 2, 2, 2, 2, 2, 2])"
            ]
          },
          "metadata": {},
          "execution_count": 8
        }
      ]
    },
    {
      "cell_type": "markdown",
      "metadata": {
        "id": "Z980LhWhMpoe"
      },
      "source": [
        "### 4.3. Assigning *input* and *output* variables\n",
        "Let's assign the 4 input variables to X and the output variable (class label) to Y"
      ]
    },
    {
      "cell_type": "code",
      "metadata": {
        "id": "3uBXWSLFMpof"
      },
      "source": [
        "X = iris.data\n",
        "Y = iris.target"
      ],
      "execution_count": 9,
      "outputs": []
    },
    {
      "cell_type": "markdown",
      "metadata": {
        "id": "NBcArzpWMpof"
      },
      "source": [
        "### 4.3. Let's examine the data dimension"
      ]
    },
    {
      "cell_type": "code",
      "metadata": {
        "id": "EtyMKo4SMpof",
        "colab": {
          "base_uri": "https://localhost:8080/"
        },
        "outputId": "7dcdbfad-a751-4f58-e877-a32c555d75f2"
      },
      "source": [
        "X.shape"
      ],
      "execution_count": 10,
      "outputs": [
        {
          "output_type": "execute_result",
          "data": {
            "text/plain": [
              "(150, 4)"
            ]
          },
          "metadata": {},
          "execution_count": 10
        }
      ]
    },
    {
      "cell_type": "code",
      "metadata": {
        "id": "zum3pxwaMpof",
        "colab": {
          "base_uri": "https://localhost:8080/"
        },
        "outputId": "b90155e2-9e84-4b60-d3a1-00a4bb25e384"
      },
      "source": [
        "Y.shape"
      ],
      "execution_count": 11,
      "outputs": [
        {
          "output_type": "execute_result",
          "data": {
            "text/plain": [
              "(150,)"
            ]
          },
          "metadata": {},
          "execution_count": 11
        }
      ]
    },
    {
      "cell_type": "markdown",
      "metadata": {
        "id": "y55gfDIPMpog"
      },
      "source": [
        "## 5. Build Classification Model using Random Forest\n",
        "\n",
        "Random forest is the classification method used for this approach.\n",
        "\n",
        "More specific: Random forests or random decision forests are an ensemble learning method for classification, regression and other tasks that operates by constructing a multitude of decision trees at training time. For classification tasks, the output of the random forest is the class selected by most trees. https://en.wikipedia.org/wiki/Random_forest\n",
        "\n",
        "After loadding the model, the classifier tries to find a best Fit on the data to be able to predict later unseen data."
      ]
    },
    {
      "cell_type": "code",
      "metadata": {
        "id": "K_E5rLJdMpog"
      },
      "source": [
        "clf = RandomForestClassifier()"
      ],
      "execution_count": 13,
      "outputs": []
    },
    {
      "cell_type": "code",
      "metadata": {
        "id": "q6BuaULhMpog",
        "colab": {
          "base_uri": "https://localhost:8080/"
        },
        "outputId": "d9274e7c-51a2-466e-8c73-ad6dd2daffb0"
      },
      "source": [
        "clf.fit(X, Y)"
      ],
      "execution_count": 25,
      "outputs": [
        {
          "output_type": "execute_result",
          "data": {
            "text/plain": [
              "RandomForestClassifier(bootstrap=True, ccp_alpha=0.0, class_weight=None,\n",
              "                       criterion='gini', max_depth=None, max_features='auto',\n",
              "                       max_leaf_nodes=None, max_samples=None,\n",
              "                       min_impurity_decrease=0.0, min_impurity_split=None,\n",
              "                       min_samples_leaf=1, min_samples_split=2,\n",
              "                       min_weight_fraction_leaf=0.0, n_estimators=100,\n",
              "                       n_jobs=None, oob_score=False, random_state=None,\n",
              "                       verbose=0, warm_start=False)"
            ]
          },
          "metadata": {},
          "execution_count": 25
        }
      ]
    },
    {
      "cell_type": "markdown",
      "metadata": {
        "id": "qcDk1UCGMpog"
      },
      "source": [
        "## 6. Feature Importance\n",
        "\n",
        "We can show which of the feature contributes most (%) to the fitting process"
      ]
    },
    {
      "cell_type": "code",
      "metadata": {
        "id": "D3JPONUBMpoh",
        "colab": {
          "base_uri": "https://localhost:8080/"
        },
        "outputId": "620013a3-cf9f-42ce-b78e-97e59a09269d"
      },
      "source": [
        "print(clf.feature_importances_)"
      ],
      "execution_count": 15,
      "outputs": [
        {
          "output_type": "stream",
          "name": "stdout",
          "text": [
            "[0.11514125 0.01836092 0.41335839 0.45313944]\n"
          ]
        }
      ]
    },
    {
      "cell_type": "markdown",
      "metadata": {
        "id": "f4nDouXQMpoh"
      },
      "source": [
        "## 7. Make Prediction\n",
        "\n",
        "If we have a model (fit), we can insert a know of unknown datapoint (measurments) into the model to get a prediction.\n",
        "\n",
        "Before we look into unknown data, we perform a check on the given dataset (X)"
      ]
    },
    {
      "cell_type": "code",
      "metadata": {
        "id": "AB4VUTBJMpoh",
        "colab": {
          "base_uri": "https://localhost:8080/"
        },
        "outputId": "1fcd0c2c-e012-470c-c645-6a3794d29055"
      },
      "source": [
        "X[0]"
      ],
      "execution_count": 18,
      "outputs": [
        {
          "output_type": "execute_result",
          "data": {
            "text/plain": [
              "array([5.1, 3.5, 1.4, 0.2])"
            ]
          },
          "metadata": {},
          "execution_count": 18
        }
      ]
    },
    {
      "cell_type": "code",
      "metadata": {
        "id": "jRn69bm8Mpoh",
        "colab": {
          "base_uri": "https://localhost:8080/"
        },
        "outputId": "6a4d4ea9-ce15-48de-cf3c-3f4ddb2569a7"
      },
      "source": [
        "print(clf.predict([[5.1, 3.5, 1.4, 0.2]]))"
      ],
      "execution_count": 19,
      "outputs": [
        {
          "output_type": "stream",
          "name": "stdout",
          "text": [
            "[0]\n"
          ]
        }
      ]
    },
    {
      "cell_type": "code",
      "metadata": {
        "id": "9IQtg2wJMpoi",
        "colab": {
          "base_uri": "https://localhost:8080/"
        },
        "outputId": "8f850758-41fe-4f5d-f4c4-c59ea7642bbe"
      },
      "source": [
        "print(clf.predict(X[[0]]))"
      ],
      "execution_count": 22,
      "outputs": [
        {
          "output_type": "stream",
          "name": "stdout",
          "text": [
            "['setosa']\n"
          ]
        }
      ]
    },
    {
      "cell_type": "markdown",
      "metadata": {
        "id": "MeAE-St1eJHB"
      },
      "source": [
        "We can also check how sure the model is with this outcome, so we can print the probability for the different classifications."
      ]
    },
    {
      "cell_type": "code",
      "metadata": {
        "id": "cfjGW1gyMpoi",
        "colab": {
          "base_uri": "https://localhost:8080/"
        },
        "outputId": "052dbdfc-1f7a-429a-9eef-94a11420d3a7"
      },
      "source": [
        "print(clf.predict_proba(X[[0]]))"
      ],
      "execution_count": 23,
      "outputs": [
        {
          "output_type": "stream",
          "name": "stdout",
          "text": [
            "[[1. 0. 0.]]\n"
          ]
        }
      ]
    },
    {
      "cell_type": "markdown",
      "metadata": {
        "id": "d2LHR4gFaYkD"
      },
      "source": [
        "With the following function you can print the class name instead of the class number\n",
        "\n",
        "note: you can also type: clf.fit(X, iris.target_names[Y]) as X is defined as iris.data and Y is defined as iris.target"
      ]
    },
    {
      "cell_type": "code",
      "metadata": {
        "id": "gsPARv_vMpoi",
        "colab": {
          "base_uri": "https://localhost:8080/"
        },
        "outputId": "6347b3de-c693-460b-c453-0a23f589f969"
      },
      "source": [
        "clf.fit(iris.data, iris.target_names[iris.target])"
      ],
      "execution_count": 32,
      "outputs": [
        {
          "output_type": "execute_result",
          "data": {
            "text/plain": [
              "RandomForestClassifier(bootstrap=True, ccp_alpha=0.0, class_weight=None,\n",
              "                       criterion='gini', max_depth=None, max_features='auto',\n",
              "                       max_leaf_nodes=None, max_samples=None,\n",
              "                       min_impurity_decrease=0.0, min_impurity_split=None,\n",
              "                       min_samples_leaf=1, min_samples_split=2,\n",
              "                       min_weight_fraction_leaf=0.0, n_estimators=100,\n",
              "                       n_jobs=None, oob_score=False, random_state=None,\n",
              "                       verbose=0, warm_start=False)"
            ]
          },
          "metadata": {},
          "execution_count": 32
        }
      ]
    },
    {
      "cell_type": "code",
      "metadata": {
        "id": "l1XJuH8xaWos",
        "outputId": "76406e9e-968c-42ae-8ea6-72bf543e499a",
        "colab": {
          "base_uri": "https://localhost:8080/"
        }
      },
      "source": [
        "print(clf.predict(X[[0]]))"
      ],
      "execution_count": 33,
      "outputs": [
        {
          "output_type": "stream",
          "name": "stdout",
          "text": [
            "['setosa']\n"
          ]
        }
      ]
    },
    {
      "cell_type": "code",
      "metadata": {
        "id": "edsf-8QrbA9v"
      },
      "source": [
        ""
      ],
      "execution_count": null,
      "outputs": []
    },
    {
      "cell_type": "markdown",
      "metadata": {
        "id": "PVqJzhw5Mpoi"
      },
      "source": [
        "## 8. Data split (80/20 ratio)\n",
        "\n",
        "To train and validate on the same dataset, the data should be seperated. One part to train the model on and another part to validate/test the model performance on.\n",
        "\n",
        "It is also wise to randomize the data you are training/testing on. A testset might be biased, like this dataset is. (the data is sorted on flower type as you might have noted). train_test_split already takes care of this, but you can pass a paramater to force randomisaztion (shuffle=True).\n",
        "\n",
        "see https://scikit-learn.org/stable/modules/generated/sklearn.model_selection.train_test_split.html"
      ]
    },
    {
      "cell_type": "code",
      "metadata": {
        "id": "1WKlFk2kMpoi"
      },
      "source": [
        "X_train, X_test, Y_train, Y_test = train_test_split(X, Y, test_size=0.2)"
      ],
      "execution_count": 34,
      "outputs": []
    },
    {
      "cell_type": "code",
      "metadata": {
        "id": "rlHTyifFMpoi",
        "colab": {
          "base_uri": "https://localhost:8080/"
        },
        "outputId": "65f681e7-d75b-42f5-e94d-cb174b463c60"
      },
      "source": [
        "X_train.shape, Y_train.shape"
      ],
      "execution_count": 35,
      "outputs": [
        {
          "output_type": "execute_result",
          "data": {
            "text/plain": [
              "((120, 4), (120,))"
            ]
          },
          "metadata": {},
          "execution_count": 35
        }
      ]
    },
    {
      "cell_type": "code",
      "metadata": {
        "id": "VDWf6KjAMpoj",
        "colab": {
          "base_uri": "https://localhost:8080/"
        },
        "outputId": "8cd8935e-0a49-4b55-f1db-30f6f6c906e2"
      },
      "source": [
        "X_test.shape, Y_test.shape"
      ],
      "execution_count": 36,
      "outputs": [
        {
          "output_type": "execute_result",
          "data": {
            "text/plain": [
              "((30, 4), (30,))"
            ]
          },
          "metadata": {},
          "execution_count": 36
        }
      ]
    },
    {
      "cell_type": "markdown",
      "metadata": {
        "id": "zZ2AeJEIMpoj"
      },
      "source": [
        "## 9. Rebuild the Random Forest Model\n",
        "\n",
        "Now using the training set only to make the model (fit)"
      ]
    },
    {
      "cell_type": "code",
      "metadata": {
        "id": "PckTIXB5Mpoj",
        "colab": {
          "base_uri": "https://localhost:8080/"
        },
        "outputId": "36acc8d7-cffd-4fb4-e220-2eb972244d8d"
      },
      "source": [
        "clf.fit(X_train, Y_train)"
      ],
      "execution_count": 37,
      "outputs": [
        {
          "output_type": "execute_result",
          "data": {
            "text/plain": [
              "RandomForestClassifier(bootstrap=True, ccp_alpha=0.0, class_weight=None,\n",
              "                       criterion='gini', max_depth=None, max_features='auto',\n",
              "                       max_leaf_nodes=None, max_samples=None,\n",
              "                       min_impurity_decrease=0.0, min_impurity_split=None,\n",
              "                       min_samples_leaf=1, min_samples_split=2,\n",
              "                       min_weight_fraction_leaf=0.0, n_estimators=100,\n",
              "                       n_jobs=None, oob_score=False, random_state=None,\n",
              "                       verbose=0, warm_start=False)"
            ]
          },
          "metadata": {},
          "execution_count": 37
        }
      ]
    },
    {
      "cell_type": "markdown",
      "metadata": {
        "id": "Yrv74bvpMpoj"
      },
      "source": [
        "### 9.1. Performs prediction on single sample from the data set"
      ]
    },
    {
      "cell_type": "code",
      "metadata": {
        "id": "SbbVZE7yMpoj",
        "colab": {
          "base_uri": "https://localhost:8080/"
        },
        "outputId": "b4ef905d-6a9a-4ce2-f59c-1f9ef25ce841"
      },
      "source": [
        "print(clf.predict([[5.1, 3.5, 1.4, 0.2]]))"
      ],
      "execution_count": 38,
      "outputs": [
        {
          "output_type": "stream",
          "name": "stdout",
          "text": [
            "[0]\n"
          ]
        }
      ]
    },
    {
      "cell_type": "code",
      "metadata": {
        "id": "rpxl8DQeMpoj",
        "colab": {
          "base_uri": "https://localhost:8080/"
        },
        "outputId": "b1a7708f-8a80-4878-8374-ac7c095068c2"
      },
      "source": [
        "print(clf.predict_proba([[5.1, 3.5, 1.4, 0.2]]))"
      ],
      "execution_count": 39,
      "outputs": [
        {
          "output_type": "stream",
          "name": "stdout",
          "text": [
            "[[1. 0. 0.]]\n"
          ]
        }
      ]
    },
    {
      "cell_type": "markdown",
      "metadata": {
        "id": "GE3gZOikMpok"
      },
      "source": [
        "### 9.2. Performs prediction on the test set\n",
        "\n",
        "After makeking a model on the training set, we are going to validate the generated model on the test set (data where the model did not train on, so it never seen these samples.)"
      ]
    },
    {
      "cell_type": "markdown",
      "metadata": {
        "id": "bKgNOv-qMpok"
      },
      "source": [
        "#### *Predicted class labels*"
      ]
    },
    {
      "cell_type": "code",
      "metadata": {
        "id": "WywyyogiMpok",
        "colab": {
          "base_uri": "https://localhost:8080/"
        },
        "outputId": "e258e826-7c14-4752-e5c8-0bd3986ec1c4"
      },
      "source": [
        "print(clf.predict(X_test))"
      ],
      "execution_count": 41,
      "outputs": [
        {
          "output_type": "stream",
          "name": "stdout",
          "text": [
            "[1 1 1 2 2 2 1 2 0 2 0 2 2 0 0 2 2 2 0 1 0 2 0 2 2 2 0 1 1 2]\n"
          ]
        }
      ]
    },
    {
      "cell_type": "markdown",
      "metadata": {
        "id": "Om_zB95IMpok"
      },
      "source": [
        "#### *Actual class labels*"
      ]
    },
    {
      "cell_type": "code",
      "metadata": {
        "id": "BzuvaV3sMpok",
        "colab": {
          "base_uri": "https://localhost:8080/"
        },
        "outputId": "8c8999bb-6d8d-492c-871d-c4f897ec3cd8"
      },
      "source": [
        "print(Y_test)"
      ],
      "execution_count": 42,
      "outputs": [
        {
          "output_type": "stream",
          "name": "stdout",
          "text": [
            "[1 1 2 2 2 2 1 2 0 2 0 2 2 0 0 2 2 1 0 1 0 2 0 2 2 2 0 1 2 2]\n"
          ]
        }
      ]
    },
    {
      "cell_type": "markdown",
      "metadata": {
        "id": "rz1xrPo1Mpol"
      },
      "source": [
        "## 10. Model Performance\n",
        "\n",
        "Lets evaluate how accuate the model is by comparing the predicted outcomes with the actual measurements/class"
      ]
    },
    {
      "cell_type": "code",
      "metadata": {
        "id": "BqbuSm-mMpol",
        "colab": {
          "base_uri": "https://localhost:8080/"
        },
        "outputId": "bb2cbae3-689e-428b-bc96-3793944c00d8"
      },
      "source": [
        "print(clf.score(X_test, Y_test))"
      ],
      "execution_count": 43,
      "outputs": [
        {
          "output_type": "stream",
          "name": "stdout",
          "text": [
            "0.9\n"
          ]
        }
      ]
    }
  ]
}