{
  "nbformat": 4,
  "nbformat_minor": 0,
  "metadata": {
    "colab": {
      "name": "Untitled6.ipynb",
      "private_outputs": true,
      "provenance": []
    },
    "kernelspec": {
      "name": "python3",
      "display_name": "Python 3"
    },
    "language_info": {
      "name": "python"
    }
  },
  "cells": [
    {
      "cell_type": "markdown",
      "source": [
        "# Convolutional Neural Networks for image classification \n",
        "\n",
        "In this assignment you will create your own Convolutional Neural Networks (CNN) model. \n",
        "\n",
        "There are several datasets available that are usable for image classification, one of them is the cifar10 dataset, which has 6000 images per class. The [Cifar10](https://www.cs.toronto.edu/~kriz/cifar.html) dataset, classifies objects like cats, cars, airplanes, etc.\n",
        "\n",
        "![](https://www.researchgate.net/profile/Robert-Kozma/publication/329109238/figure/fig2/AS:708896771551232@1546025569617/Examples-of-CIFAR-10-images-with-10-classes-10-examples-for-each-class_Q640.jpg)\n",
        "\n",
        "You can use this dataset but are also allowed to **find your own dataset** or to even create your own dataset. Just remember that you must use at least 3 classes and at most 10 classes, so, in the case of the cifar10, if you decide to use 5 classes, then get rid of the other 5 to save space. In other words, choose a dataset, check the images (amount, size in pixels) and implement the steps needed shown in the provided notebook. Also, you should use [this](https://machinelearningmastery.com/how-to-develop-a-cnn-from-scratch-for-cifar-10-photo-classification/) example for making sure that you will succeed.\n",
        "\n",
        "\n",
        "* You should use at least 3 classes and at most 10 classes where such dataset should have at least 1500 images per class.\n",
        "\n",
        "\n",
        "* Use the following website that takes you trought all the steps of development.\n",
        "https://machinelearningmastery.com/how-to-develop-a-cnn-from-scratch-for-cifar-10-photo-classification/\n",
        "\n",
        "* When you follow the steps on the given website you should be aware to downscale the suggested network to be able to train, you can actually train all the 10 classes on the given Cifar dataset on the jetson with a downscaled CNN!\n",
        "\n",
        "* Show the output and answer the related quistions in the subsections below\n",
        "\n",
        "**Be aware:** Advanced neural networks are often trained on high performance (super) computers. our hardware is limited in memory and performance, and more suited for deployment of these kind of networks then for training. But this doesn't mean we can't train on it, we should only be aware that if we want better results and more complex networks you should consider more advanced hardware.   \n",
        "\n",
        "\n"
      ],
      "metadata": {
        "id": "7ipnWvssmbh7"
      }
    },
    {
      "cell_type": "markdown",
      "source": [
        "# Initialization\n",
        "\n",
        "load all needed libraries and functions, \n",
        "check the previos tutorial how to correctly load keras and other modules"
      ],
      "metadata": {
        "id": "OOH78U5DpU5k"
      }
    },
    {
      "cell_type": "code",
      "source": [
        ""
      ],
      "metadata": {
        "id": "Of4Qf_7DpXOS"
      },
      "execution_count": null,
      "outputs": []
    },
    {
      "cell_type": "markdown",
      "source": [
        "# Load dataset & Plot a subset\n",
        "\n",
        "load your dataset and show a plot of the subset of your data"
      ],
      "metadata": {
        "id": "yWrbNzmtuhKG"
      }
    },
    {
      "cell_type": "code",
      "source": [
        ""
      ],
      "metadata": {
        "id": "kTZNxjTkul9u"
      },
      "execution_count": null,
      "outputs": []
    },
    {
      "cell_type": "markdown",
      "source": [
        "# Prepare Pixel Data\n",
        "\n",
        "pre-process your raw input data... rescale... normalize...."
      ],
      "metadata": {
        "id": "O-P5qhvGumPu"
      }
    },
    {
      "cell_type": "code",
      "source": [
        ""
      ],
      "metadata": {
        "id": "Z1u8MMVYupNb"
      },
      "execution_count": null,
      "outputs": []
    },
    {
      "cell_type": "markdown",
      "source": [
        "## Define your Model\n",
        "\n",
        "This is the crucial part of the assignment! \n",
        "\n",
        "We do not expect that you can/should develop your own network model, so you can take the suggested model as decribed on [the given website](https://machinelearningmastery.com/how-to-develop-a-cnn-from-scratch-for-cifar-10-photo-classification/).....but ***the amount of convolutions and dense layers should be scaled down*** due to memory and processing limitations.\n",
        "\n",
        "**Remark:** with a scaled down network an accuracy of about 60% is achievable.... which is not much for a CNN, for learning puposes it's ok for now. \n",
        "\n",
        "* How is your model constructed, how many trainable parameters does it have, and where are they located?"
      ],
      "metadata": {
        "id": "Yal9uYElv_nU"
      }
    },
    {
      "cell_type": "code",
      "source": [
        ""
      ],
      "metadata": {
        "id": "HZTFT_GJv_3N"
      },
      "execution_count": null,
      "outputs": []
    },
    {
      "cell_type": "markdown",
      "source": [
        "# Fit the Model\n",
        "\n",
        "Fitting the model is the time consuming part, this depend on the complexity of the model and the amount of training data.\n",
        "In the fitting process the model is first build up in memory with all the tunable parameters and intercomnnects (with random start values). This is also the limitation of some systems, all these parameters are stored in memory (or when not fitting in a swap file)\n",
        "\n",
        "**TIP:** do not start the first time with training a lot of epochs, first see if this and all following steps in your system work and when you are sure that all works train your final model. You can also monitor the Jetson CPU/GPU/Memory performance during this process (see Tips & Tricks)\n",
        "\n",
        "* Which batch size and how many epochs give a good result?"
      ],
      "metadata": {
        "id": "t5t5_38HupW3"
      }
    },
    {
      "cell_type": "code",
      "source": [
        ""
      ],
      "metadata": {
        "id": "rycO-mp9uscG"
      },
      "execution_count": null,
      "outputs": []
    },
    {
      "cell_type": "markdown",
      "source": [
        "# Evaluate Model\n",
        "\n",
        "Show the model accuracy after the training process ... how accurate is your final model?"
      ],
      "metadata": {
        "id": "WdzrdzNeusno"
      }
    },
    {
      "cell_type": "code",
      "source": [
        ""
      ],
      "metadata": {
        "id": "7Vk7p7YnuvR_"
      },
      "execution_count": null,
      "outputs": []
    },
    {
      "cell_type": "markdown",
      "source": [
        "# learning curves\n",
        "\n",
        "Show the learning curves of your training sequence, of accuracy, value_accuracy and loss, value_loss\n",
        "\n",
        "* Explain what the difference is between the therms accuracy and value_accuracy? (what do they represent)"
      ],
      "metadata": {
        "id": "PRjQRnYluvaH"
      }
    },
    {
      "cell_type": "code",
      "source": [
        ""
      ],
      "metadata": {
        "id": "KhWeZxmauyCe"
      },
      "execution_count": null,
      "outputs": []
    },
    {
      "cell_type": "markdown",
      "source": [
        "# Save model\n",
        "\n",
        "Save the model for later usage"
      ],
      "metadata": {
        "id": "l8a1ovA8uyMX"
      }
    },
    {
      "cell_type": "code",
      "source": [
        ""
      ],
      "metadata": {
        "id": "quPWuPwtu3s4"
      },
      "execution_count": null,
      "outputs": []
    },
    {
      "cell_type": "markdown",
      "source": [
        "# Evaluate Final Model\n",
        "\n",
        "After training and saving the model you can deploy this model on any given input image. You can start a new application in where you import this model and apply it on any given imput images, so you can just load the model and don't need the timeconsuming training anymore."
      ],
      "metadata": {
        "id": "BbK5-OQ4u32A"
      }
    },
    {
      "cell_type": "code",
      "source": [
        ""
      ],
      "metadata": {
        "id": "zy3j_jLn4I6u"
      },
      "execution_count": null,
      "outputs": []
    },
    {
      "cell_type": "markdown",
      "source": [
        "## Make Prediction\n",
        "\n",
        "We can use our saved model to make a prediction on new images that are not trained on... make sure the input images receive the same pre-processing as the images you trained on.\n",
        "\n",
        "So fetch some images from the internet (similar classes, but not from your dataset), prepare them to fit your network and classify them. Do this for  **10 images per class** and show the results!\n",
        "\n",
        "* How good is the detection on you real dataset? (show some statistics) "
      ],
      "metadata": {
        "id": "uqEeHGjG3fsd"
      }
    },
    {
      "cell_type": "code",
      "source": [
        ""
      ],
      "metadata": {
        "id": "cNpwYE5Ru8gn"
      },
      "execution_count": null,
      "outputs": []
    }
  ]
}